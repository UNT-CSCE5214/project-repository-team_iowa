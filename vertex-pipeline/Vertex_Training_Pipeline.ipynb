{
  "nbformat": 4,
  "nbformat_minor": 0,
  "metadata": {
    "colab": {
      "provenance": []
    },
    "kernelspec": {
      "name": "python3",
      "display_name": "Python 3"
    },
    "language_info": {
      "name": "python"
    }
  },
  "cells": [
    {
      "cell_type": "code",
      "execution_count": null,
      "metadata": {
        "id": "DjedH_aaBX1Q"
      },
      "outputs": [],
      "source": [
        "# This pipeline is to be run in Vertex Workbench\n",
        "# Install Kubeflow Pipelines and GCP AI Platform\n",
        "!pip3 install kfp --user -q\n",
        "!pip3 install --upgrade google-cloud-platform --user -q"
      ]
    },
    {
      "cell_type": "code",
      "source": [
        "from datetime import date, datetime\n",
        "from typing import NamedTuple # for passing data between steps\n",
        "import google.cloud.aiplatform as aip\n",
        "from google.cloud import aiplatform\n",
        "from google_cloud_pipeline_components import aiplatform as gcc_aip\n",
        "\n",
        "from kfp import dsl\n",
        "from kfp.v2 import compiler\n",
        "from kfp.v2.dsl import component"
      ],
      "metadata": {
        "id": "ibtaNujdBoo0"
      },
      "execution_count": null,
      "outputs": []
    },
    {
      "cell_type": "code",
      "source": [
        "PROJECT_ID = \"\"\n",
        "BUCKET_NAME = \"\"\n",
        "BUCKET_URI = f\"gs://{BUCKET_NAME}\"\n",
        "PIPELINE_ROOT = f\"{BUCKET_URI}/pipeline_root/control\"\n",
        "TIMESTAMP = datetime.now().strftime(\"%Y_%m_%d__%H_%M_%S\")"
      ],
      "metadata": {
        "id": "8PxRJnfzCARg"
      },
      "execution_count": null,
      "outputs": []
    },
    {
      "cell_type": "code",
      "source": [
        "aip.init(project=PROJECT_ID, staging_bucket=BUCKET_URI)"
      ],
      "metadata": {
        "id": "4kI4ogSRCSOy"
      },
      "execution_count": null,
      "outputs": []
    },
    {
      "cell_type": "code",
      "source": [
        "# Pre-processing component\n",
        "# To do: integrate Andre's component here\n",
        "@component(\n",
        "    packages_to_install=[\n",
        "        \"pandas\",\n",
        "        \"google-cloud-storage\",\n",
        "        \"google-cloud-aiplatform\"\n",
        "    ])\n",
        "def create_automl_import_file_op(bucket_name: str) -> NamedTuple('Outputs', [('uri', str), ('size', int)]):\n",
        "  # Todo: integrate Andre's work\n",
        "  return (\"gs://test\", 1000)"
      ],
      "metadata": {
        "id": "prY9_kEDCRst"
      },
      "execution_count": null,
      "outputs": []
    },
    {
      "cell_type": "code",
      "source": [
        "@dsl.pipeline(\n",
        "    name=\"iowa-steam-sentiment-pipeline\",\n",
        "    pipeline_root=PIPELINE_ROOT\n",
        ")\n",
        "\n",
        "def pipeline():\n",
        "  import_op = create_automl_import_file_op(BUCKET_NAME)\n",
        "\n",
        "  ds_op = gcc_aip.TextDatasetCreateOp(\n",
        "      project=PROJECT_ID,\n",
        "      display_name=f\"iowa-steam-reviews-processed-{TIMESTAMP}\",\n",
        "      gcs_source=import_op.outputs['uri'],\n",
        "      import_schema_uri='aiplatform.schema.dataset.ioformat.text.single_label_classification',\n",
        "      sync=sync)\n",
        "  ds_op.wait()\n",
        "\n",
        "  # todo: chain together training of model"
      ],
      "metadata": {
        "id": "rULS779GC33Y"
      },
      "execution_count": null,
      "outputs": []
    }
  ]
}