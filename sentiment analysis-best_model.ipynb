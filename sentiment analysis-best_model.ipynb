{
 "cells": [
  {
   "cell_type": "code",
   "execution_count": 1,
   "id": "45edd714",
   "metadata": {},
   "outputs": [],
   "source": [
    "import pandas as pd\n",
    "import numpy as np\n",
    "import sklearn\n",
    "import math\n",
    "import re\n",
    "from pathlib import Path\n",
    "from sklearn.metrics import accuracy_score,recall_score,precision_score,f1_score,roc_auc_score"
   ]
  },
  {
   "cell_type": "code",
   "execution_count": 2,
   "id": "dc15f4bc",
   "metadata": {},
   "outputs": [
    {
     "data": {
      "text/plain": [
       "(15729, 5)"
      ]
     },
     "execution_count": 2,
     "metadata": {},
     "output_type": "execute_result"
    }
   ],
   "source": [
    "# Import data\n",
    "df_train = pd.read_csv('train_canonical.csv')\n",
    "df_train.shape"
   ]
  },
  {
   "cell_type": "code",
   "execution_count": 3,
   "id": "8b401aff",
   "metadata": {
    "scrolled": true
   },
   "outputs": [
    {
     "data": {
      "text/html": [
       "<div>\n",
       "<style scoped>\n",
       "    .dataframe tbody tr th:only-of-type {\n",
       "        vertical-align: middle;\n",
       "    }\n",
       "\n",
       "    .dataframe tbody tr th {\n",
       "        vertical-align: top;\n",
       "    }\n",
       "\n",
       "    .dataframe thead th {\n",
       "        text-align: right;\n",
       "    }\n",
       "</style>\n",
       "<table border=\"1\" class=\"dataframe\">\n",
       "  <thead>\n",
       "    <tr style=\"text-align: right;\">\n",
       "      <th></th>\n",
       "      <th>user_review</th>\n",
       "      <th>user_suggestion</th>\n",
       "    </tr>\n",
       "  </thead>\n",
       "  <tbody>\n",
       "    <tr>\n",
       "      <th>0</th>\n",
       "      <td>Heroes &amp; Generals had potential, but had to me...</td>\n",
       "      <td>0</td>\n",
       "    </tr>\n",
       "    <tr>\n",
       "      <th>1</th>\n",
       "      <td>Early Access ReviewHell yeah just came back fr...</td>\n",
       "      <td>1</td>\n",
       "    </tr>\n",
       "    <tr>\n",
       "      <th>2</th>\n",
       "      <td>I've played this game for 5 years on their int...</td>\n",
       "      <td>1</td>\n",
       "    </tr>\n",
       "    <tr>\n",
       "      <th>3</th>\n",
       "      <td>Do NOT buy anything from them. I stupidly boug...</td>\n",
       "      <td>0</td>\n",
       "    </tr>\n",
       "    <tr>\n",
       "      <th>4</th>\n",
       "      <td>Early Access ReviewThis is the future of MMOs....</td>\n",
       "      <td>1</td>\n",
       "    </tr>\n",
       "    <tr>\n",
       "      <th>...</th>\n",
       "      <td>...</td>\n",
       "      <td>...</td>\n",
       "    </tr>\n",
       "    <tr>\n",
       "      <th>15739</th>\n",
       "      <td>Early Access ReviewQuite a fun game, the block...</td>\n",
       "      <td>0</td>\n",
       "    </tr>\n",
       "    <tr>\n",
       "      <th>15740</th>\n",
       "      <td>Early Access Reviewtoo many people jumped on t...</td>\n",
       "      <td>1</td>\n",
       "    </tr>\n",
       "    <tr>\n",
       "      <th>15741</th>\n",
       "      <td>Lets see...â™¦ Half the players play like bots...</td>\n",
       "      <td>0</td>\n",
       "    </tr>\n",
       "    <tr>\n",
       "      <th>15742</th>\n",
       "      <td>Early Access ReviewMy most favoured (hated) ga...</td>\n",
       "      <td>1</td>\n",
       "    </tr>\n",
       "    <tr>\n",
       "      <th>15743</th>\n",
       "      <td>Early Access ReviewThis game is incredible! Of...</td>\n",
       "      <td>1</td>\n",
       "    </tr>\n",
       "  </tbody>\n",
       "</table>\n",
       "<p>15744 rows × 2 columns</p>\n",
       "</div>"
      ],
      "text/plain": [
       "                                             user_review  user_suggestion\n",
       "0      Heroes & Generals had potential, but had to me...                0\n",
       "1      Early Access ReviewHell yeah just came back fr...                1\n",
       "2      I've played this game for 5 years on their int...                1\n",
       "3      Do NOT buy anything from them. I stupidly boug...                0\n",
       "4      Early Access ReviewThis is the future of MMOs....                1\n",
       "...                                                  ...              ...\n",
       "15739  Early Access ReviewQuite a fun game, the block...                0\n",
       "15740  Early Access Reviewtoo many people jumped on t...                1\n",
       "15741  Lets see...â™¦ Half the players play like bots...                0\n",
       "15742  Early Access ReviewMy most favoured (hated) ga...                1\n",
       "15743  Early Access ReviewThis game is incredible! Of...                1\n",
       "\n",
       "[15744 rows x 2 columns]"
      ]
     },
     "execution_count": 3,
     "metadata": {},
     "output_type": "execute_result"
    }
   ],
   "source": [
    "df_train = pd.read_csv('train_data.csv')\n",
    "df_train = df_train[['user_review','user_suggestion']]\n",
    "df_train"
   ]
  },
  {
   "cell_type": "code",
   "execution_count": 4,
   "id": "52acd5a6",
   "metadata": {
    "scrolled": true
   },
   "outputs": [],
   "source": [
    "#change the label\n",
    "df_train = df_train.rename(columns={'user_suggestion':'label'})"
   ]
  },
  {
   "cell_type": "code",
   "execution_count": 5,
   "id": "d95ccb13",
   "metadata": {},
   "outputs": [
    {
     "data": {
      "text/html": [
       "<div>\n",
       "<style scoped>\n",
       "    .dataframe tbody tr th:only-of-type {\n",
       "        vertical-align: middle;\n",
       "    }\n",
       "\n",
       "    .dataframe tbody tr th {\n",
       "        vertical-align: top;\n",
       "    }\n",
       "\n",
       "    .dataframe thead th {\n",
       "        text-align: right;\n",
       "    }\n",
       "</style>\n",
       "<table border=\"1\" class=\"dataframe\">\n",
       "  <thead>\n",
       "    <tr style=\"text-align: right;\">\n",
       "      <th></th>\n",
       "      <th>user_review</th>\n",
       "      <th>label</th>\n",
       "    </tr>\n",
       "  </thead>\n",
       "  <tbody>\n",
       "    <tr>\n",
       "      <th>0</th>\n",
       "      <td>Heroes &amp; Generals had potential, but had to me...</td>\n",
       "      <td>0</td>\n",
       "    </tr>\n",
       "    <tr>\n",
       "      <th>1</th>\n",
       "      <td>Early Access ReviewHell yeah just came back fr...</td>\n",
       "      <td>1</td>\n",
       "    </tr>\n",
       "    <tr>\n",
       "      <th>2</th>\n",
       "      <td>I've played this game for 5 years on their int...</td>\n",
       "      <td>1</td>\n",
       "    </tr>\n",
       "    <tr>\n",
       "      <th>3</th>\n",
       "      <td>Do NOT buy anything from them. I stupidly boug...</td>\n",
       "      <td>0</td>\n",
       "    </tr>\n",
       "    <tr>\n",
       "      <th>4</th>\n",
       "      <td>Early Access ReviewThis is the future of MMOs....</td>\n",
       "      <td>1</td>\n",
       "    </tr>\n",
       "  </tbody>\n",
       "</table>\n",
       "</div>"
      ],
      "text/plain": [
       "                                         user_review  label\n",
       "0  Heroes & Generals had potential, but had to me...      0\n",
       "1  Early Access ReviewHell yeah just came back fr...      1\n",
       "2  I've played this game for 5 years on their int...      1\n",
       "3  Do NOT buy anything from them. I stupidly boug...      0\n",
       "4  Early Access ReviewThis is the future of MMOs....      1"
      ]
     },
     "execution_count": 5,
     "metadata": {},
     "output_type": "execute_result"
    }
   ],
   "source": [
    "df_train.head()"
   ]
  },
  {
   "cell_type": "code",
   "execution_count": 6,
   "id": "aac3c096",
   "metadata": {},
   "outputs": [
    {
     "data": {
      "text/plain": [
       "array([0, 1], dtype=int64)"
      ]
     },
     "execution_count": 6,
     "metadata": {},
     "output_type": "execute_result"
    }
   ],
   "source": [
    "df_train['label'].unique()"
   ]
  },
  {
   "cell_type": "code",
   "execution_count": 7,
   "id": "96d2de17",
   "metadata": {
    "scrolled": true
   },
   "outputs": [
    {
     "name": "stdout",
     "output_type": "stream",
     "text": [
      "<class 'pandas.core.frame.DataFrame'>\n",
      "RangeIndex: 15744 entries, 0 to 15743\n",
      "Data columns (total 2 columns):\n",
      " #   Column       Non-Null Count  Dtype \n",
      "---  ------       --------------  ----- \n",
      " 0   user_review  15744 non-null  object\n",
      " 1   label        15744 non-null  int64 \n",
      "dtypes: int64(1), object(1)\n",
      "memory usage: 246.1+ KB\n"
     ]
    }
   ],
   "source": [
    "df_train.info()"
   ]
  },
  {
   "cell_type": "code",
   "execution_count": 8,
   "id": "7a7575fd",
   "metadata": {},
   "outputs": [
    {
     "data": {
      "text/html": [
       "<div>\n",
       "<style scoped>\n",
       "    .dataframe tbody tr th:only-of-type {\n",
       "        vertical-align: middle;\n",
       "    }\n",
       "\n",
       "    .dataframe tbody tr th {\n",
       "        vertical-align: top;\n",
       "    }\n",
       "\n",
       "    .dataframe thead th {\n",
       "        text-align: right;\n",
       "    }\n",
       "</style>\n",
       "<table border=\"1\" class=\"dataframe\">\n",
       "  <thead>\n",
       "    <tr style=\"text-align: right;\">\n",
       "      <th></th>\n",
       "      <th>user_review</th>\n",
       "      <th>label</th>\n",
       "    </tr>\n",
       "  </thead>\n",
       "  <tbody>\n",
       "    <tr>\n",
       "      <th>0</th>\n",
       "      <td>heroes generals had potential but had to mess it up with greed and apathy this game had so much potential to be a good game in fact it was a good game before these updates messed up everything the updates ruined the german faction to the point that any game with the germans is a near certain loss they don t listen to community requests and go on their own to buff things making them op or nerfing the hell out of items whcih devalues the time put in that endless grind to get any item in this game it took around the 6 hour mark to actually get a bare sniper rifle for my infantry which needs an extra 3 hours to get the essential attachments to be any use in matches moving to gameplay it used to be pretty fun with games having an even match that last a considerable amount of time compared to the current match stomps where you only see paratroopers and people sneaking past the lines to steal the obj while the other team goes for their base i have seen countless times where our or the enemy team after a long battle capturing the objective getting their point capture by those paratroopers that drop in every minute right before the point was secured moving past that infantry destroys tanks which makes them obsolete there s barely any reason to play recon since everything is speeden up from the constant stream of crappy updates and they ban many people who hadn t even done anything there s too much to list and it makes this game incredibly boring as well as tilting i can t find any reason why you would play this game in it s current state unless you want to waste time or money which i might add is completely pay to win since the most op weapons are sitting on top of a hefty grind or a pretty penny this game is horribly executing and since the developer don t care of the popular reception will continually to dig a grave for this game</td>\n",
       "      <td>0</td>\n",
       "    </tr>\n",
       "    <tr>\n",
       "      <th>1</th>\n",
       "      <td>early access reviewhell yeah just came back from the store and both this fresh pair of pants now let me see if there is some cool free games on steam oh spooky they say well lets se about that click on start new games 5 min later instant stains on your new 4 pantsand as a bonus when you get to the end of the game you will have enough bricks to build a spooky house of jumpscares yourself 1 1 for making me install a toilet in my bedroom d</td>\n",
       "      <td>1</td>\n",
       "    </tr>\n",
       "    <tr>\n",
       "      <th>2</th>\n",
       "      <td>i ve played this game for 5 years on their internet client and it s been great over the years i expect great things from deca and i reccomend this game to anyone who is looking for an great game to play solo or with friends</td>\n",
       "      <td>1</td>\n",
       "    </tr>\n",
       "    <tr>\n",
       "      <th>3</th>\n",
       "      <td>do not buy anything from them i stupidly bought the starter pack for 4 99 after i played for a while i did really enjoy it but this morning i wake up go to check my vault and everything is gone no vault no pack waste of money</td>\n",
       "      <td>0</td>\n",
       "    </tr>\n",
       "    <tr>\n",
       "      <th>4</th>\n",
       "      <td>early access reviewthis is the future of mmos it s honestly so 7 1 that i could play it for hours without getting bored the later levels lack the same spark of interest that levels 1 1 have but i assume this is because the game is in early access it s worth it to make an account play around for a couple hours and send it on its way until it s better</td>\n",
       "      <td>1</td>\n",
       "    </tr>\n",
       "  </tbody>\n",
       "</table>\n",
       "</div>"
      ],
      "text/plain": [
       "                                                                                                                                                                                                                                                                                                                                                                                                                                                                                                                                                                                                                                                                                                                                                                                                                                                                                                                                                                                                                                                                                                                                                                                                                                                                                                                                                                                                                                                                                                                                                                                                                                                                                                                                                                                                                                                                                                                      user_review  \\\n",
       "0  heroes generals had potential but had to mess it up with greed and apathy this game had so much potential to be a good game in fact it was a good game before these updates messed up everything the updates ruined the german faction to the point that any game with the germans is a near certain loss they don t listen to community requests and go on their own to buff things making them op or nerfing the hell out of items whcih devalues the time put in that endless grind to get any item in this game it took around the 6 hour mark to actually get a bare sniper rifle for my infantry which needs an extra 3 hours to get the essential attachments to be any use in matches moving to gameplay it used to be pretty fun with games having an even match that last a considerable amount of time compared to the current match stomps where you only see paratroopers and people sneaking past the lines to steal the obj while the other team goes for their base i have seen countless times where our or the enemy team after a long battle capturing the objective getting their point capture by those paratroopers that drop in every minute right before the point was secured moving past that infantry destroys tanks which makes them obsolete there s barely any reason to play recon since everything is speeden up from the constant stream of crappy updates and they ban many people who hadn t even done anything there s too much to list and it makes this game incredibly boring as well as tilting i can t find any reason why you would play this game in it s current state unless you want to waste time or money which i might add is completely pay to win since the most op weapons are sitting on top of a hefty grind or a pretty penny this game is horribly executing and since the developer don t care of the popular reception will continually to dig a grave for this game   \n",
       "1                                                                                                                                                                                                                                                                                                                                                                                                                                                                                                                                                                                                                                                                                                                                                                                                                                                                                                                                                                                                                                                                                                                                                                                                                                                                                                                                                                                                                                                                        early access reviewhell yeah just came back from the store and both this fresh pair of pants now let me see if there is some cool free games on steam oh spooky they say well lets se about that click on start new games 5 min later instant stains on your new 4 pantsand as a bonus when you get to the end of the game you will have enough bricks to build a spooky house of jumpscares yourself 1 1 for making me install a toilet in my bedroom d   \n",
       "2                                                                                                                                                                                                                                                                                                                                                                                                                                                                                                                                                                                                                                                                                                                                                                                                                                                                                                                                                                                                                                                                                                                                                                                                                                                                                                                                                                                                                                                                                                                                                                                                                                                                                                 i ve played this game for 5 years on their internet client and it s been great over the years i expect great things from deca and i reccomend this game to anyone who is looking for an great game to play solo or with friends   \n",
       "3                                                                                                                                                                                                                                                                                                                                                                                                                                                                                                                                                                                                                                                                                                                                                                                                                                                                                                                                                                                                                                                                                                                                                                                                                                                                                                                                                                                                                                                                                                                                                                                                                                                                                               do not buy anything from them i stupidly bought the starter pack for 4 99 after i played for a while i did really enjoy it but this morning i wake up go to check my vault and everything is gone no vault no pack waste of money   \n",
       "4                                                                                                                                                                                                                                                                                                                                                                                                                                                                                                                                                                                                                                                                                                                                                                                                                                                                                                                                                                                                                                                                                                                                                                                                                                                                                                                                                                                                                                                                                                                                                                 early access reviewthis is the future of mmos it s honestly so 7 1 that i could play it for hours without getting bored the later levels lack the same spark of interest that levels 1 1 have but i assume this is because the game is in early access it s worth it to make an account play around for a couple hours and send it on its way until it s better   \n",
       "\n",
       "   label  \n",
       "0      0  \n",
       "1      1  \n",
       "2      1  \n",
       "3      0  \n",
       "4      1  "
      ]
     },
     "execution_count": 8,
     "metadata": {},
     "output_type": "execute_result"
    }
   ],
   "source": [
    "# tokenize word from game review\n",
    "import re\n",
    "\n",
    "def process_text(content):\n",
    "    sentence = re.sub('((www\\.[^\\s]+)|(https?://[^\\s]+))','', content['user_review'])\n",
    "    sentence = re.sub('@[^\\s]+','', sentence)\n",
    "    sentence = sentence.lower().split()\n",
    "    reformed_sentence = [word for word in sentence]\n",
    "    reformed_sentence = \" \".join(reformed_sentence) \n",
    "    sentence = re.sub('&[^\\s]+;', '', reformed_sentence)\n",
    "    sentence = re.sub('[^a-zA-Zа-яА-Я1-9]+', ' ', sentence)\n",
    "    sentence = re.sub(' +',' ', sentence)\n",
    "    #text = re.sub(' [\\w] ', ' ', text)\n",
    "    return sentence.strip()\n",
    "\n",
    "df_train['user_review'] = df_train.apply(process_text, axis=1)\n",
    "pd.set_option('display.max_colwidth', None)\n",
    "df_train.head()"
   ]
  },
  {
   "cell_type": "code",
   "execution_count": 9,
   "id": "e7e65bef",
   "metadata": {},
   "outputs": [],
   "source": [
    "def process_text1(content):\n",
    "    sentence = re.sub('((www\\.[^\\s]+)|(https?://[^\\s]+))','', content)\n",
    "    sentence = re.sub('@[^\\s]+','', sentence)\n",
    "    sentence = sentence.lower().split()\n",
    "    reformed_sentence = [word for word in sentence]\n",
    "    reformed_sentence = \" \".join(reformed_sentence) \n",
    "    sentence = re.sub('&[^\\s]+;', '', reformed_sentence)\n",
    "    sentence = re.sub('[^a-zA-Zа-яА-Я1-9]+', ' ', sentence)\n",
    "    sentence = re.sub(' +',' ', sentence)\n",
    "    #text = re.sub(' [\\w] ', ' ', text)\n",
    "    return [sentence.strip()]"
   ]
  },
  {
   "cell_type": "code",
   "execution_count": 10,
   "id": "ce90314a",
   "metadata": {},
   "outputs": [
    {
     "data": {
      "text/plain": [
       "['i liek world hello']"
      ]
     },
     "execution_count": 10,
     "metadata": {},
     "output_type": "execute_result"
    }
   ],
   "source": [
    "process_text1('i liek @dasd,123,hello, world! hello')"
   ]
  },
  {
   "cell_type": "code",
   "execution_count": 11,
   "id": "b4755175",
   "metadata": {},
   "outputs": [
    {
     "data": {
      "text/plain": [
       "1    8958\n",
       "0    6786\n",
       "Name: label, dtype: int64"
      ]
     },
     "execution_count": 11,
     "metadata": {},
     "output_type": "execute_result"
    }
   ],
   "source": [
    "df_train['label'].value_counts()"
   ]
  },
  {
   "cell_type": "code",
   "execution_count": 12,
   "id": "9bf9d535",
   "metadata": {},
   "outputs": [],
   "source": [
    "df_train_X = df_train['user_review']\n",
    "df_train_y = df_train['label']"
   ]
  },
  {
   "cell_type": "code",
   "execution_count": 13,
   "id": "1a0582af",
   "metadata": {},
   "outputs": [
    {
     "data": {
      "text/plain": [
       "0.5689786585365854"
      ]
     },
     "execution_count": 13,
     "metadata": {},
     "output_type": "execute_result"
    }
   ],
   "source": [
    "# dataset is balanced, we don't need to deal \n",
    "df_train_y.sum()/len(df_train_y)"
   ]
  },
  {
   "cell_type": "code",
   "execution_count": 14,
   "id": "4b4a4820",
   "metadata": {},
   "outputs": [],
   "source": [
    "#Import testing data\n",
    "df_test = pd.read_csv('test_held_out.csv')\n",
    "df_test=df_test.rename(columns={\"user_suggestion\":'label'})\n",
    "df_test = df_test[['user_review','label']]"
   ]
  },
  {
   "cell_type": "code",
   "execution_count": 15,
   "id": "698bcfe4",
   "metadata": {},
   "outputs": [
    {
     "data": {
      "text/plain": [
       "(1765,)"
      ]
     },
     "execution_count": 15,
     "metadata": {},
     "output_type": "execute_result"
    }
   ],
   "source": [
    "df_test_X = df_test['user_review']\n",
    "df_test_y = df_test['label']\n",
    "df_test_X.shape"
   ]
  },
  {
   "cell_type": "code",
   "execution_count": 16,
   "id": "5d0e3310",
   "metadata": {},
   "outputs": [
    {
     "data": {
      "text/plain": [
       "0       1\n",
       "1       1\n",
       "2       1\n",
       "3       1\n",
       "4       1\n",
       "       ..\n",
       "1760    1\n",
       "1761    0\n",
       "1762    1\n",
       "1763    1\n",
       "1764    1\n",
       "Name: label, Length: 1765, dtype: int64"
      ]
     },
     "execution_count": 16,
     "metadata": {},
     "output_type": "execute_result"
    }
   ],
   "source": [
    "df_test_y"
   ]
  },
  {
   "cell_type": "code",
   "execution_count": 17,
   "id": "fc983710",
   "metadata": {},
   "outputs": [],
   "source": [
    "# Use different model and create pipeline\n",
    "# 1.LogisticRegression\n",
    "# 2.RandomForest\n",
    "# 3.KNN\n",
    "# 4.Decision Tree\n",
    "# 5.SVM\n",
    "from sklearn.feature_extraction.text import TfidfVectorizer\n",
    "from sklearn.linear_model import LogisticRegression\n",
    "from sklearn.ensemble import RandomForestClassifier\n",
    "from sklearn.neighbors import KNeighborsClassifier\n",
    "from sklearn.tree import DecisionTreeClassifier\n",
    "from sklearn.svm import SVC\n",
    "from sklearn.pipeline import Pipeline\n",
    "\n",
    "tvec = TfidfVectorizer()\n",
    "classifier_lr = LogisticRegression()\n",
    "classifier_rf = RandomForestClassifier()\n",
    "classifier_knn = KNeighborsClassifier()\n",
    "classifier_dt = DecisionTreeClassifier()\n",
    "classifier_svm = SVC()\n",
    "\n",
    "pipeline_model_lr = Pipeline([('vectorizer1',tvec),('classifier_lr',classifier_lr)])\n",
    "pipeline_model_rf = Pipeline([('vectorizer2',tvec),('classifier_rf',classifier_rf)])\n",
    "pipeline_model_knn = Pipeline([('vectorizer3',tvec),('classifier_knn',classifier_knn)])\n",
    "pipeline_model_dt = Pipeline([('vectorizer4',tvec),('classifier_dt',classifier_dt)])\n",
    "pipeline_model_svm = Pipeline([('vectorizer5',tvec),('classifier_svm',classifier_svm)])\n",
    "\n",
    "\n",
    "pipelines = [pipeline_model_lr,pipeline_model_rf,pipeline_model_knn,pipeline_model_dt,pipeline_model_svm]"
   ]
  },
  {
   "cell_type": "code",
   "execution_count": 18,
   "id": "0d145ef3",
   "metadata": {},
   "outputs": [],
   "source": [
    "best_accuracy=0.0\n",
    "best_classifier=0\n",
    "best_pipeline=\"\""
   ]
  },
  {
   "cell_type": "code",
   "execution_count": 19,
   "id": "3a49a64b",
   "metadata": {},
   "outputs": [],
   "source": [
    "pipe_dict = {0:'Logistic Regression',1:'RandomForest',2:'KNN',3:'Decision Tree',4:'SVM'}"
   ]
  },
  {
   "cell_type": "code",
   "execution_count": 20,
   "id": "4267216f",
   "metadata": {},
   "outputs": [],
   "source": [
    "for pipe in pipelines:\n",
    "    pipe.fit(df_train_X,df_train_y)"
   ]
  },
  {
   "cell_type": "code",
   "execution_count": 21,
   "id": "520fac83",
   "metadata": {},
   "outputs": [
    {
     "name": "stdout",
     "output_type": "stream",
     "text": [
      "Logistic Regression Test Accuracy: 0.9218130311614731\n",
      "RandomForest Test Accuracy: 0.9835694050991501\n",
      "KNN Test Accuracy: 0.39206798866855525\n",
      "Decision Tree Test Accuracy: 0.9592067988668556\n",
      "SVM Test Accuracy: 0.9790368271954675\n"
     ]
    }
   ],
   "source": [
    "# Accuracy\n",
    "for i,model in enumerate(pipelines):\n",
    "    print(\"{} Test Accuracy: {}\".format(pipe_dict[i],accuracy_score(model.predict(df_test_X),df_test_y)))"
   ]
  },
  {
   "cell_type": "code",
   "execution_count": 22,
   "id": "53be80ae",
   "metadata": {},
   "outputs": [
    {
     "name": "stdout",
     "output_type": "stream",
     "text": [
      "Logistic Regression Test Preception Score: 0.9225806451612903\n",
      "RandomForest Test Preception Score: 0.9903225806451613\n",
      "KNN Test Preception Score: 0.9967741935483871\n",
      "Decision Tree Test Preception Score: 0.9661290322580646\n",
      "SVM Test Preception Score: 0.9725806451612903\n"
     ]
    }
   ],
   "source": [
    "# Precision score\n",
    "for i,model in enumerate(pipelines):\n",
    "    print(\"{} Test Preception Score: {}\".format(pipe_dict[i],precision_score(model.predict(df_test_X),df_test_y)))"
   ]
  },
  {
   "cell_type": "code",
   "execution_count": 23,
   "id": "fbaa5a76",
   "metadata": {},
   "outputs": [
    {
     "name": "stdout",
     "output_type": "stream",
     "text": [
      "Logistic Regression Test Recall Score: 0.8640483383685801\n",
      "RandomForest Test Recall Score: 0.9638932496075353\n",
      "KNN Test Recall Score: 0.36589698046181174\n",
      "Decision Tree Test Recall Score: 0.9215384615384615\n",
      "SVM Test Recall Score: 0.9678972712680578\n"
     ]
    }
   ],
   "source": [
    "# Recall score\n",
    "for i,model in enumerate(pipelines):\n",
    "    print(\"{} Test Recall Score: {}\".format(pipe_dict[i],recall_score(model.predict(df_test_X),df_test_y)))"
   ]
  },
  {
   "cell_type": "code",
   "execution_count": 24,
   "id": "462269ac",
   "metadata": {},
   "outputs": [
    {
     "name": "stdout",
     "output_type": "stream",
     "text": [
      "Logistic Regression Test f1 Score: 0.8923556942277692\n",
      "RandomForest Test f1 Score: 0.9769291964996022\n",
      "KNN Test f1 Score: 0.5352966652230403\n",
      "Decision Tree Test f1 Score: 0.9433070866141733\n",
      "SVM Test f1 Score: 0.9702333065164924\n"
     ]
    }
   ],
   "source": [
    "# f1 score\n",
    "for i,model in enumerate(pipelines):\n",
    "    print(\"{} Test f1 Score: {}\".format(pipe_dict[i],f1_score(model.predict(df_test_X),df_test_y)))"
   ]
  },
  {
   "cell_type": "code",
   "execution_count": 25,
   "id": "658057c2",
   "metadata": {},
   "outputs": [
    {
     "name": "stdout",
     "output_type": "stream",
     "text": [
      "Logistic Regression Test f1 Score: 0.9102653296557316\n",
      "RandomForest Test f1 Score: 0.9792870503356824\n",
      "KNN Test f1 Score: 0.6697905954940638\n",
      "Decision Tree Test f1 Score: 0.9513521904104865\n",
      "SVM Test f1 Score: 0.9765055533222952\n"
     ]
    }
   ],
   "source": [
    "# roc_auc score\n",
    "for i,model in enumerate(pipelines):\n",
    "    print(\"{} Test f1 Score: {}\".format(pipe_dict[i],roc_auc_score(model.predict(df_test_X),df_test_y)))"
   ]
  },
  {
   "cell_type": "code",
   "execution_count": 26,
   "id": "d555b407",
   "metadata": {},
   "outputs": [
    {
     "name": "stdout",
     "output_type": "stream",
     "text": [
      "The best classifier is RandomForest,and accuracy is 0.9835694050991501\n"
     ]
    }
   ],
   "source": [
    "for i,model in enumerate(pipelines):\n",
    "    if accuracy_score(model.predict(df_test_X),df_test_y)>best_accuracy:\n",
    "        best_accuracy = accuracy_score(model.predict(df_test_X),df_test_y)\n",
    "        best_pipeline = model\n",
    "        best_classifier = i\n",
    "print(\"The best classifier is {},and accuracy is {}\".format(pipe_dict[best_classifier],best_accuracy))        "
   ]
  },
  {
   "cell_type": "code",
   "execution_count": 27,
   "id": "4cb6f573",
   "metadata": {},
   "outputs": [],
   "source": [
    "best_model = pipelines[[i for i in pipe_dict if pipe_dict[i]==pipe_dict[best_classifier]][0]]"
   ]
  },
  {
   "cell_type": "code",
   "execution_count": 28,
   "id": "478d5399",
   "metadata": {},
   "outputs": [
    {
     "data": {
      "text/plain": [
       "array([[1122,    6],\n",
       "       [  23,  614]], dtype=int64)"
      ]
     },
     "execution_count": 28,
     "metadata": {},
     "output_type": "execute_result"
    }
   ],
   "source": [
    "from sklearn.metrics import confusion_matrix\n",
    "best_prediction =best_model.predict(df_test_X)\n",
    "confusion_matrix(best_prediction, df_test_y)"
   ]
  },
  {
   "cell_type": "code",
   "execution_count": 29,
   "id": "2866a3bb",
   "metadata": {},
   "outputs": [
    {
     "name": "stdout",
     "output_type": "stream",
     "text": [
      "Best_model Accuracy :  0.9835694050991501\n",
      "Best_model Precision :  0.9836696705876062\n",
      "Best_model Recall :  0.9835694050991501\n",
      "Best_model F1 score: 0.9835197422983617\n"
     ]
    }
   ],
   "source": [
    "from sklearn.metrics import accuracy_score, precision_score, recall_score,f1_score\n",
    "\n",
    "print(\"Best_model Accuracy : \", accuracy_score(best_prediction, df_test_y))\n",
    "print(\"Best_model Precision : \", precision_score(best_prediction, df_test_y, average = 'weighted'))\n",
    "print(\"Best_model Recall : \", recall_score(best_prediction, df_test_y, average = 'weighted'))\n",
    "print(\"Best_model F1 score:\",f1_score(best_prediction,df_test_y,average = 'weighted'))"
   ]
  },
  {
   "cell_type": "code",
   "execution_count": 32,
   "id": "d30a4100",
   "metadata": {},
   "outputs": [],
   "source": [
    "import pickle\n",
    "file = open('sentiment_analysis_best_model.pkl','wb')\n",
    "pickle.dump(best_model,file)"
   ]
  },
  {
   "cell_type": "code",
   "execution_count": 33,
   "id": "79b22f32",
   "metadata": {},
   "outputs": [],
   "source": [
    "model = pickle.load(open('sentiment_analysis_best_model.pkl','rb'))"
   ]
  },
  {
   "cell_type": "code",
   "execution_count": 34,
   "id": "528d44fe",
   "metadata": {},
   "outputs": [
    {
     "data": {
      "text/plain": [
       "array([0], dtype=int64)"
      ]
     },
     "execution_count": 34,
     "metadata": {},
     "output_type": "execute_result"
    }
   ],
   "source": [
    "example = 'Do NOT buy anything from them. I stupidly boug'\n",
    "\n",
    "best_model.predict(process_text1(example))"
   ]
  },
  {
   "cell_type": "code",
   "execution_count": null,
   "id": "fe93eee1",
   "metadata": {},
   "outputs": [],
   "source": []
  },
  {
   "cell_type": "code",
   "execution_count": null,
   "id": "028f9349",
   "metadata": {},
   "outputs": [],
   "source": []
  }
 ],
 "metadata": {
  "kernelspec": {
   "display_name": "Python 3 (ipykernel)",
   "language": "python",
   "name": "python3"
  },
  "language_info": {
   "codemirror_mode": {
    "name": "ipython",
    "version": 3
   },
   "file_extension": ".py",
   "mimetype": "text/x-python",
   "name": "python",
   "nbconvert_exporter": "python",
   "pygments_lexer": "ipython3",
   "version": "3.9.12"
  }
 },
 "nbformat": 4,
 "nbformat_minor": 5
}
