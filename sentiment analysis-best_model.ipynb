{
 "cells": [
  {
   "cell_type": "code",
   "execution_count": 20,
   "id": "45edd714",
   "metadata": {},
   "outputs": [],
   "source": [
    "import pandas as pd\n",
    "import numpy as np\n",
    "import sklearn\n",
    "import math\n",
    "import re\n",
    "from pathlib import Path\n",
    "from sklearn.metrics import accuracy_score"
   ]
  },
  {
   "cell_type": "code",
   "execution_count": 2,
   "id": "dc15f4bc",
   "metadata": {},
   "outputs": [
    {
     "data": {
      "text/html": [
       "<div>\n",
       "<style scoped>\n",
       "    .dataframe tbody tr th:only-of-type {\n",
       "        vertical-align: middle;\n",
       "    }\n",
       "\n",
       "    .dataframe tbody tr th {\n",
       "        vertical-align: top;\n",
       "    }\n",
       "\n",
       "    .dataframe thead th {\n",
       "        text-align: right;\n",
       "    }\n",
       "</style>\n",
       "<table border=\"1\" class=\"dataframe\">\n",
       "  <thead>\n",
       "    <tr style=\"text-align: right;\">\n",
       "      <th></th>\n",
       "      <th>review_id</th>\n",
       "      <th>title</th>\n",
       "      <th>year</th>\n",
       "      <th>user_review</th>\n",
       "      <th>user_suggestion</th>\n",
       "    </tr>\n",
       "  </thead>\n",
       "  <tbody>\n",
       "    <tr>\n",
       "      <th>0</th>\n",
       "      <td>1</td>\n",
       "      <td>Spooky's Jump Scare Mansion</td>\n",
       "      <td>2016.0</td>\n",
       "      <td>I'm scared and hearing creepy voices.  So I'll...</td>\n",
       "      <td>1</td>\n",
       "    </tr>\n",
       "    <tr>\n",
       "      <th>1</th>\n",
       "      <td>2</td>\n",
       "      <td>Spooky's Jump Scare Mansion</td>\n",
       "      <td>2016.0</td>\n",
       "      <td>Best game, more better than Sam Pepper's YouTu...</td>\n",
       "      <td>1</td>\n",
       "    </tr>\n",
       "    <tr>\n",
       "      <th>2</th>\n",
       "      <td>3</td>\n",
       "      <td>Spooky's Jump Scare Mansion</td>\n",
       "      <td>2016.0</td>\n",
       "      <td>A littly iffy on the controls, but once you kn...</td>\n",
       "      <td>1</td>\n",
       "    </tr>\n",
       "    <tr>\n",
       "      <th>3</th>\n",
       "      <td>4</td>\n",
       "      <td>Spooky's Jump Scare Mansion</td>\n",
       "      <td>2015.0</td>\n",
       "      <td>Great game, fun and colorful and all that.A si...</td>\n",
       "      <td>1</td>\n",
       "    </tr>\n",
       "    <tr>\n",
       "      <th>4</th>\n",
       "      <td>5</td>\n",
       "      <td>Spooky's Jump Scare Mansion</td>\n",
       "      <td>2015.0</td>\n",
       "      <td>Not many games have the cute tag right next to...</td>\n",
       "      <td>1</td>\n",
       "    </tr>\n",
       "    <tr>\n",
       "      <th>...</th>\n",
       "      <td>...</td>\n",
       "      <td>...</td>\n",
       "      <td>...</td>\n",
       "      <td>...</td>\n",
       "      <td>...</td>\n",
       "    </tr>\n",
       "    <tr>\n",
       "      <th>17489</th>\n",
       "      <td>25535</td>\n",
       "      <td>EverQuest II</td>\n",
       "      <td>2012.0</td>\n",
       "      <td>Arguably the single greatest mmorp that exists...</td>\n",
       "      <td>1</td>\n",
       "    </tr>\n",
       "    <tr>\n",
       "      <th>17490</th>\n",
       "      <td>25536</td>\n",
       "      <td>EverQuest II</td>\n",
       "      <td>2017.0</td>\n",
       "      <td>An older game, to be sure, but has its own cha...</td>\n",
       "      <td>1</td>\n",
       "    </tr>\n",
       "    <tr>\n",
       "      <th>17491</th>\n",
       "      <td>25537</td>\n",
       "      <td>EverQuest II</td>\n",
       "      <td>2011.0</td>\n",
       "      <td>When I frist started playing Everquest 2 it wa...</td>\n",
       "      <td>1</td>\n",
       "    </tr>\n",
       "    <tr>\n",
       "      <th>17492</th>\n",
       "      <td>25538</td>\n",
       "      <td>EverQuest II</td>\n",
       "      <td>NaN</td>\n",
       "      <td>cool game. THe only thing that REALLY PISSES M...</td>\n",
       "      <td>1</td>\n",
       "    </tr>\n",
       "    <tr>\n",
       "      <th>17493</th>\n",
       "      <td>25539</td>\n",
       "      <td>EverQuest II</td>\n",
       "      <td>NaN</td>\n",
       "      <td>this game since I was a little kid, always hav...</td>\n",
       "      <td>1</td>\n",
       "    </tr>\n",
       "  </tbody>\n",
       "</table>\n",
       "<p>17494 rows × 5 columns</p>\n",
       "</div>"
      ],
      "text/plain": [
       "       review_id                        title    year  \\\n",
       "0              1  Spooky's Jump Scare Mansion  2016.0   \n",
       "1              2  Spooky's Jump Scare Mansion  2016.0   \n",
       "2              3  Spooky's Jump Scare Mansion  2016.0   \n",
       "3              4  Spooky's Jump Scare Mansion  2015.0   \n",
       "4              5  Spooky's Jump Scare Mansion  2015.0   \n",
       "...          ...                          ...     ...   \n",
       "17489      25535                 EverQuest II  2012.0   \n",
       "17490      25536                 EverQuest II  2017.0   \n",
       "17491      25537                 EverQuest II  2011.0   \n",
       "17492      25538                 EverQuest II     NaN   \n",
       "17493      25539                 EverQuest II     NaN   \n",
       "\n",
       "                                             user_review  user_suggestion  \n",
       "0      I'm scared and hearing creepy voices.  So I'll...                1  \n",
       "1      Best game, more better than Sam Pepper's YouTu...                1  \n",
       "2      A littly iffy on the controls, but once you kn...                1  \n",
       "3      Great game, fun and colorful and all that.A si...                1  \n",
       "4      Not many games have the cute tag right next to...                1  \n",
       "...                                                  ...              ...  \n",
       "17489  Arguably the single greatest mmorp that exists...                1  \n",
       "17490  An older game, to be sure, but has its own cha...                1  \n",
       "17491  When I frist started playing Everquest 2 it wa...                1  \n",
       "17492  cool game. THe only thing that REALLY PISSES M...                1  \n",
       "17493  this game since I was a little kid, always hav...                1  \n",
       "\n",
       "[17494 rows x 5 columns]"
      ]
     },
     "execution_count": 2,
     "metadata": {},
     "output_type": "execute_result"
    }
   ],
   "source": [
    "# Import data\n",
    "df_train = pd.read_csv('train.csv')\n",
    "df_train"
   ]
  },
  {
   "cell_type": "code",
   "execution_count": 3,
   "id": "8b401aff",
   "metadata": {
    "scrolled": true
   },
   "outputs": [
    {
     "data": {
      "text/html": [
       "<div>\n",
       "<style scoped>\n",
       "    .dataframe tbody tr th:only-of-type {\n",
       "        vertical-align: middle;\n",
       "    }\n",
       "\n",
       "    .dataframe tbody tr th {\n",
       "        vertical-align: top;\n",
       "    }\n",
       "\n",
       "    .dataframe thead th {\n",
       "        text-align: right;\n",
       "    }\n",
       "</style>\n",
       "<table border=\"1\" class=\"dataframe\">\n",
       "  <thead>\n",
       "    <tr style=\"text-align: right;\">\n",
       "      <th></th>\n",
       "      <th>user_review</th>\n",
       "      <th>user_suggestion</th>\n",
       "    </tr>\n",
       "  </thead>\n",
       "  <tbody>\n",
       "    <tr>\n",
       "      <th>0</th>\n",
       "      <td>Heroes &amp; Generals had potential, but had to me...</td>\n",
       "      <td>0</td>\n",
       "    </tr>\n",
       "    <tr>\n",
       "      <th>1</th>\n",
       "      <td>Early Access ReviewHell yeah just came back fr...</td>\n",
       "      <td>1</td>\n",
       "    </tr>\n",
       "    <tr>\n",
       "      <th>2</th>\n",
       "      <td>I've played this game for 5 years on their int...</td>\n",
       "      <td>1</td>\n",
       "    </tr>\n",
       "    <tr>\n",
       "      <th>3</th>\n",
       "      <td>Do NOT buy anything from them. I stupidly boug...</td>\n",
       "      <td>0</td>\n",
       "    </tr>\n",
       "    <tr>\n",
       "      <th>4</th>\n",
       "      <td>Early Access ReviewThis is the future of MMOs....</td>\n",
       "      <td>1</td>\n",
       "    </tr>\n",
       "    <tr>\n",
       "      <th>...</th>\n",
       "      <td>...</td>\n",
       "      <td>...</td>\n",
       "    </tr>\n",
       "    <tr>\n",
       "      <th>15739</th>\n",
       "      <td>Early Access ReviewQuite a fun game, the block...</td>\n",
       "      <td>0</td>\n",
       "    </tr>\n",
       "    <tr>\n",
       "      <th>15740</th>\n",
       "      <td>Early Access Reviewtoo many people jumped on t...</td>\n",
       "      <td>1</td>\n",
       "    </tr>\n",
       "    <tr>\n",
       "      <th>15741</th>\n",
       "      <td>Lets see...â™¦ Half the players play like bots...</td>\n",
       "      <td>0</td>\n",
       "    </tr>\n",
       "    <tr>\n",
       "      <th>15742</th>\n",
       "      <td>Early Access ReviewMy most favoured (hated) ga...</td>\n",
       "      <td>1</td>\n",
       "    </tr>\n",
       "    <tr>\n",
       "      <th>15743</th>\n",
       "      <td>Early Access ReviewThis game is incredible! Of...</td>\n",
       "      <td>1</td>\n",
       "    </tr>\n",
       "  </tbody>\n",
       "</table>\n",
       "<p>15744 rows × 2 columns</p>\n",
       "</div>"
      ],
      "text/plain": [
       "                                             user_review  user_suggestion\n",
       "0      Heroes & Generals had potential, but had to me...                0\n",
       "1      Early Access ReviewHell yeah just came back fr...                1\n",
       "2      I've played this game for 5 years on their int...                1\n",
       "3      Do NOT buy anything from them. I stupidly boug...                0\n",
       "4      Early Access ReviewThis is the future of MMOs....                1\n",
       "...                                                  ...              ...\n",
       "15739  Early Access ReviewQuite a fun game, the block...                0\n",
       "15740  Early Access Reviewtoo many people jumped on t...                1\n",
       "15741  Lets see...â™¦ Half the players play like bots...                0\n",
       "15742  Early Access ReviewMy most favoured (hated) ga...                1\n",
       "15743  Early Access ReviewThis game is incredible! Of...                1\n",
       "\n",
       "[15744 rows x 2 columns]"
      ]
     },
     "execution_count": 3,
     "metadata": {},
     "output_type": "execute_result"
    }
   ],
   "source": [
    "df_train = pd.read_csv('train_data.csv')\n",
    "df_train = df_train[['user_review','user_suggestion']]\n",
    "df_train"
   ]
  },
  {
   "cell_type": "code",
   "execution_count": 4,
   "id": "52acd5a6",
   "metadata": {
    "scrolled": true
   },
   "outputs": [],
   "source": [
    "#change the label\n",
    "df_train = df_train.rename(columns={'user_suggestion':'label'})"
   ]
  },
  {
   "cell_type": "code",
   "execution_count": 5,
   "id": "d95ccb13",
   "metadata": {},
   "outputs": [
    {
     "data": {
      "text/html": [
       "<div>\n",
       "<style scoped>\n",
       "    .dataframe tbody tr th:only-of-type {\n",
       "        vertical-align: middle;\n",
       "    }\n",
       "\n",
       "    .dataframe tbody tr th {\n",
       "        vertical-align: top;\n",
       "    }\n",
       "\n",
       "    .dataframe thead th {\n",
       "        text-align: right;\n",
       "    }\n",
       "</style>\n",
       "<table border=\"1\" class=\"dataframe\">\n",
       "  <thead>\n",
       "    <tr style=\"text-align: right;\">\n",
       "      <th></th>\n",
       "      <th>user_review</th>\n",
       "      <th>label</th>\n",
       "    </tr>\n",
       "  </thead>\n",
       "  <tbody>\n",
       "    <tr>\n",
       "      <th>0</th>\n",
       "      <td>Heroes &amp; Generals had potential, but had to me...</td>\n",
       "      <td>0</td>\n",
       "    </tr>\n",
       "    <tr>\n",
       "      <th>1</th>\n",
       "      <td>Early Access ReviewHell yeah just came back fr...</td>\n",
       "      <td>1</td>\n",
       "    </tr>\n",
       "    <tr>\n",
       "      <th>2</th>\n",
       "      <td>I've played this game for 5 years on their int...</td>\n",
       "      <td>1</td>\n",
       "    </tr>\n",
       "    <tr>\n",
       "      <th>3</th>\n",
       "      <td>Do NOT buy anything from them. I stupidly boug...</td>\n",
       "      <td>0</td>\n",
       "    </tr>\n",
       "    <tr>\n",
       "      <th>4</th>\n",
       "      <td>Early Access ReviewThis is the future of MMOs....</td>\n",
       "      <td>1</td>\n",
       "    </tr>\n",
       "  </tbody>\n",
       "</table>\n",
       "</div>"
      ],
      "text/plain": [
       "                                         user_review  label\n",
       "0  Heroes & Generals had potential, but had to me...      0\n",
       "1  Early Access ReviewHell yeah just came back fr...      1\n",
       "2  I've played this game for 5 years on their int...      1\n",
       "3  Do NOT buy anything from them. I stupidly boug...      0\n",
       "4  Early Access ReviewThis is the future of MMOs....      1"
      ]
     },
     "execution_count": 5,
     "metadata": {},
     "output_type": "execute_result"
    }
   ],
   "source": [
    "df_train.head()"
   ]
  },
  {
   "cell_type": "code",
   "execution_count": 6,
   "id": "aac3c096",
   "metadata": {},
   "outputs": [
    {
     "data": {
      "text/plain": [
       "array([0, 1], dtype=int64)"
      ]
     },
     "execution_count": 6,
     "metadata": {},
     "output_type": "execute_result"
    }
   ],
   "source": [
    "df_train['label'].unique()"
   ]
  },
  {
   "cell_type": "code",
   "execution_count": 7,
   "id": "96d2de17",
   "metadata": {
    "scrolled": true
   },
   "outputs": [
    {
     "name": "stdout",
     "output_type": "stream",
     "text": [
      "<class 'pandas.core.frame.DataFrame'>\n",
      "RangeIndex: 15744 entries, 0 to 15743\n",
      "Data columns (total 2 columns):\n",
      " #   Column       Non-Null Count  Dtype \n",
      "---  ------       --------------  ----- \n",
      " 0   user_review  15744 non-null  object\n",
      " 1   label        15744 non-null  int64 \n",
      "dtypes: int64(1), object(1)\n",
      "memory usage: 246.1+ KB\n"
     ]
    }
   ],
   "source": [
    "df_train.info()"
   ]
  },
  {
   "cell_type": "code",
   "execution_count": 8,
   "id": "7a7575fd",
   "metadata": {},
   "outputs": [
    {
     "data": {
      "text/html": [
       "<div>\n",
       "<style scoped>\n",
       "    .dataframe tbody tr th:only-of-type {\n",
       "        vertical-align: middle;\n",
       "    }\n",
       "\n",
       "    .dataframe tbody tr th {\n",
       "        vertical-align: top;\n",
       "    }\n",
       "\n",
       "    .dataframe thead th {\n",
       "        text-align: right;\n",
       "    }\n",
       "</style>\n",
       "<table border=\"1\" class=\"dataframe\">\n",
       "  <thead>\n",
       "    <tr style=\"text-align: right;\">\n",
       "      <th></th>\n",
       "      <th>user_review</th>\n",
       "      <th>label</th>\n",
       "    </tr>\n",
       "  </thead>\n",
       "  <tbody>\n",
       "    <tr>\n",
       "      <th>0</th>\n",
       "      <td>heroes generals had potential but had to mess ...</td>\n",
       "      <td>0</td>\n",
       "    </tr>\n",
       "    <tr>\n",
       "      <th>1</th>\n",
       "      <td>early access reviewhell yeah just came back fr...</td>\n",
       "      <td>1</td>\n",
       "    </tr>\n",
       "    <tr>\n",
       "      <th>2</th>\n",
       "      <td>i ve played this game for 5 years on their int...</td>\n",
       "      <td>1</td>\n",
       "    </tr>\n",
       "    <tr>\n",
       "      <th>3</th>\n",
       "      <td>do not buy anything from them i stupidly bough...</td>\n",
       "      <td>0</td>\n",
       "    </tr>\n",
       "    <tr>\n",
       "      <th>4</th>\n",
       "      <td>early access reviewthis is the future of mmos ...</td>\n",
       "      <td>1</td>\n",
       "    </tr>\n",
       "  </tbody>\n",
       "</table>\n",
       "</div>"
      ],
      "text/plain": [
       "                                         user_review  label\n",
       "0  heroes generals had potential but had to mess ...      0\n",
       "1  early access reviewhell yeah just came back fr...      1\n",
       "2  i ve played this game for 5 years on their int...      1\n",
       "3  do not buy anything from them i stupidly bough...      0\n",
       "4  early access reviewthis is the future of mmos ...      1"
      ]
     },
     "execution_count": 8,
     "metadata": {},
     "output_type": "execute_result"
    }
   ],
   "source": [
    "# tokenize word from game review\n",
    "import re\n",
    "\n",
    "def process_text(content):\n",
    "    sentence = re.sub('((www\\.[^\\s]+)|(https?://[^\\s]+))','', content['user_review'])\n",
    "    sentence = re.sub('@[^\\s]+','', sentence)\n",
    "    sentence = sentence.lower().split()\n",
    "    reformed_sentence = [word for word in sentence]\n",
    "    reformed_sentence = \" \".join(reformed_sentence) \n",
    "    sentence = re.sub('&[^\\s]+;', '', reformed_sentence)\n",
    "    sentence = re.sub('[^a-zA-Zа-яА-Я1-9]+', ' ', sentence)\n",
    "    sentence = re.sub(' +',' ', sentence)\n",
    "    #text = re.sub(' [\\w] ', ' ', text)\n",
    "    return sentence.strip()\n",
    "\n",
    "df_train['user_review'] = df_train.apply(process_text, axis=1)\n",
    "df_train.head()"
   ]
  },
  {
   "cell_type": "code",
   "execution_count": 9,
   "id": "e7e65bef",
   "metadata": {},
   "outputs": [],
   "source": [
    "def process_text1(content):\n",
    "    sentence = re.sub('((www\\.[^\\s]+)|(https?://[^\\s]+))','', content)\n",
    "    sentence = re.sub('@[^\\s]+','', sentence)\n",
    "    sentence = sentence.lower().split()\n",
    "    reformed_sentence = [word for word in sentence]\n",
    "    reformed_sentence = \" \".join(reformed_sentence) \n",
    "    sentence = re.sub('&[^\\s]+;', '', reformed_sentence)\n",
    "    sentence = re.sub('[^a-zA-Zа-яА-Я1-9]+', ' ', sentence)\n",
    "    sentence = re.sub(' +',' ', sentence)\n",
    "    #text = re.sub(' [\\w] ', ' ', text)\n",
    "    return [sentence.strip()]"
   ]
  },
  {
   "cell_type": "code",
   "execution_count": 10,
   "id": "ce90314a",
   "metadata": {},
   "outputs": [
    {
     "data": {
      "text/plain": [
       "['i liek world hello']"
      ]
     },
     "execution_count": 10,
     "metadata": {},
     "output_type": "execute_result"
    }
   ],
   "source": [
    "process_text1('i liek @dasd,123,hello, world! hello')"
   ]
  },
  {
   "cell_type": "code",
   "execution_count": 11,
   "id": "b4755175",
   "metadata": {},
   "outputs": [
    {
     "data": {
      "text/plain": [
       "1    8958\n",
       "0    6786\n",
       "Name: label, dtype: int64"
      ]
     },
     "execution_count": 11,
     "metadata": {},
     "output_type": "execute_result"
    }
   ],
   "source": [
    "df_train['label'].value_counts()"
   ]
  },
  {
   "cell_type": "code",
   "execution_count": 12,
   "id": "9bf9d535",
   "metadata": {},
   "outputs": [],
   "source": [
    "df_train_X = df_train['user_review']\n",
    "df_train_y = df_train['label']"
   ]
  },
  {
   "cell_type": "code",
   "execution_count": 13,
   "id": "4b4a4820",
   "metadata": {},
   "outputs": [],
   "source": [
    "#Import testing data\n",
    "df_test = pd.read_csv('test_data.csv')\n",
    "df_test=df_test.rename(columns={\"user_suggestion\":'label'})\n",
    "df_test = df_test[['user_review','label']]"
   ]
  },
  {
   "cell_type": "code",
   "execution_count": 14,
   "id": "698bcfe4",
   "metadata": {},
   "outputs": [],
   "source": [
    "df_test_X = df_test['user_review']\n",
    "df_test_y = df_test['label']"
   ]
  },
  {
   "cell_type": "code",
   "execution_count": 15,
   "id": "fc983710",
   "metadata": {},
   "outputs": [],
   "source": [
    "# Use different model and create pipeline\n",
    "# 1.LogisticRegression\n",
    "# 2.RandomForest\n",
    "# 3.KNN\n",
    "# 4.Decision Tree\n",
    "# 5.SVM\n",
    "from sklearn.feature_extraction.text import TfidfVectorizer\n",
    "from sklearn.linear_model import LogisticRegression\n",
    "from sklearn.ensemble import RandomForestClassifier\n",
    "from sklearn.neighbors import KNeighborsClassifier\n",
    "from sklearn.tree import DecisionTreeClassifier\n",
    "from sklearn.svm import SVC\n",
    "from sklearn.pipeline import Pipeline\n",
    "\n",
    "tvec = TfidfVectorizer()\n",
    "classifier_lr = LogisticRegression()\n",
    "classifier_rf = RandomForestClassifier()\n",
    "classifier_knn = KNeighborsClassifier()\n",
    "classifier_dt = DecisionTreeClassifier()\n",
    "classifier_svm = SVC()\n",
    "\n",
    "pipeline_model_lr = Pipeline([('vectorizer1',tvec),('classifier_lr',classifier_lr)])\n",
    "pipeline_model_rf = Pipeline([('vectorizer2',tvec),('classifier_rf',classifier_rf)])\n",
    "pipeline_model_knn = Pipeline([('vectorizer3',tvec),('classifier_knn',classifier_knn)])\n",
    "pipeline_model_dt = Pipeline([('vectorizer4',tvec),('classifier_dt',classifier_dt)])\n",
    "pipeline_model_svm = Pipeline([('vectorizer5',tvec),('classifier_svm',classifier_svm)])\n",
    "\n",
    "\n",
    "pipelines = [pipeline_model_lr,pipeline_model_rf,pipeline_model_knn,pipeline_model_dt,pipeline_model_svm]"
   ]
  },
  {
   "cell_type": "code",
   "execution_count": 16,
   "id": "0d145ef3",
   "metadata": {},
   "outputs": [],
   "source": [
    "best_accuracy=0.0\n",
    "best_classifier=0\n",
    "best_pipeline=\"\""
   ]
  },
  {
   "cell_type": "code",
   "execution_count": 17,
   "id": "3a49a64b",
   "metadata": {},
   "outputs": [],
   "source": [
    "pipe_dict = {0:'Logistic Regression',1:'RandomForest',2:'KNN',3:'Decision Tree',4:'SVM'}"
   ]
  },
  {
   "cell_type": "code",
   "execution_count": 18,
   "id": "4267216f",
   "metadata": {},
   "outputs": [],
   "source": [
    "for pipe in pipelines:\n",
    "    pipe.fit(df_train_X,df_train_y)"
   ]
  },
  {
   "cell_type": "code",
   "execution_count": 21,
   "id": "520fac83",
   "metadata": {},
   "outputs": [
    {
     "name": "stdout",
     "output_type": "stream",
     "text": [
      "Logistic Regression Test Accuracy: 0.8668571428571429\n",
      "RandomForest Test Accuracy: 0.8325714285714285\n",
      "KNN Test Accuracy: 0.5777142857142857\n",
      "Decision Tree Test Accuracy: 0.6817142857142857\n",
      "SVM Test Accuracy: 0.8765714285714286\n"
     ]
    }
   ],
   "source": [
    "for i,model in enumerate(pipelines):\n",
    "    print(\"{} Test Accuracy: {}\".format(pipe_dict[i],accuracy_score(model.predict(df_test_X),df_test_y)))"
   ]
  },
  {
   "cell_type": "code",
   "execution_count": 22,
   "id": "d555b407",
   "metadata": {},
   "outputs": [
    {
     "name": "stdout",
     "output_type": "stream",
     "text": [
      "The best classifier is SVM,and accuracy is 0.8765714285714286\n"
     ]
    }
   ],
   "source": [
    "for i,model in enumerate(pipelines):\n",
    "    if accuracy_score(model.predict(df_test_X),df_test_y)>best_accuracy:\n",
    "        best_accuracy = accuracy_score(model.predict(df_test_X),df_test_y)\n",
    "        best_pipeline = model\n",
    "        best_classifier = i\n",
    "print(\"The best classifier is {},and accuracy is {}\".format(pipe_dict[best_classifier],best_accuracy))        "
   ]
  },
  {
   "cell_type": "code",
   "execution_count": 23,
   "id": "4cb6f573",
   "metadata": {},
   "outputs": [],
   "source": [
    "best_model = pipelines[[i for i in pipe_dict if pipe_dict[i]==pipe_dict[best_classifier]][0]]"
   ]
  },
  {
   "cell_type": "code",
   "execution_count": 24,
   "id": "478d5399",
   "metadata": {},
   "outputs": [
    {
     "data": {
      "text/plain": [
       "array([[621,  97],\n",
       "       [119, 913]], dtype=int64)"
      ]
     },
     "execution_count": 24,
     "metadata": {},
     "output_type": "execute_result"
    }
   ],
   "source": [
    "from sklearn.metrics import confusion_matrix\n",
    "best_prediction =best_model.predict(df_test_X)\n",
    "confusion_matrix(best_prediction, df_test_y)"
   ]
  },
  {
   "cell_type": "code",
   "execution_count": 25,
   "id": "2866a3bb",
   "metadata": {},
   "outputs": [
    {
     "name": "stdout",
     "output_type": "stream",
     "text": [
      "Best_model Accuracy :  0.8765714285714286\n",
      "Best_model Precision :  0.8773856951718337\n",
      "Best_model Recall :  0.8765714285714286\n",
      "Best_model F1 score: 0.8768377511413751\n"
     ]
    }
   ],
   "source": [
    "from sklearn.metrics import accuracy_score, precision_score, recall_score,f1_score\n",
    "\n",
    "print(\"Best_model Accuracy : \", accuracy_score(best_prediction, df_test_y))\n",
    "print(\"Best_model Precision : \", precision_score(best_prediction, df_test_y, average = 'weighted'))\n",
    "print(\"Best_model Recall : \", recall_score(best_prediction, df_test_y, average = 'weighted'))\n",
    "print(\"Best_model F1 score:\",f1_score(best_prediction,df_test_y,average = 'weighted'))"
   ]
  },
  {
   "cell_type": "code",
   "execution_count": 28,
   "id": "d30a4100",
   "metadata": {},
   "outputs": [],
   "source": [
    "import pickle\n",
    "file = open('sentiment_analysis_best_model.pkl','wb')\n",
    "pickle.dump(best_model,file)"
   ]
  },
  {
   "cell_type": "code",
   "execution_count": 29,
   "id": "79b22f32",
   "metadata": {},
   "outputs": [],
   "source": [
    "model = pickle.load(open('sentiment_analysis_best_model.pkl','rb'))"
   ]
  },
  {
   "cell_type": "code",
   "execution_count": 30,
   "id": "528d44fe",
   "metadata": {},
   "outputs": [
    {
     "data": {
      "text/plain": [
       "array([0], dtype=int64)"
      ]
     },
     "execution_count": 30,
     "metadata": {},
     "output_type": "execute_result"
    }
   ],
   "source": [
    "example = 'Do NOT buy anything from them. I stupidly boug'\n",
    "\n",
    "best_model.predict(process_text1(example))"
   ]
  },
  {
   "cell_type": "code",
   "execution_count": null,
   "id": "fe93eee1",
   "metadata": {},
   "outputs": [],
   "source": []
  },
  {
   "cell_type": "code",
   "execution_count": null,
   "id": "028f9349",
   "metadata": {},
   "outputs": [],
   "source": []
  }
 ],
 "metadata": {
  "kernelspec": {
   "display_name": "Python 3 (ipykernel)",
   "language": "python",
   "name": "python3"
  },
  "language_info": {
   "codemirror_mode": {
    "name": "ipython",
    "version": 3
   },
   "file_extension": ".py",
   "mimetype": "text/x-python",
   "name": "python",
   "nbconvert_exporter": "python",
   "pygments_lexer": "ipython3",
   "version": "3.9.12"
  }
 },
 "nbformat": 4,
 "nbformat_minor": 5
}
