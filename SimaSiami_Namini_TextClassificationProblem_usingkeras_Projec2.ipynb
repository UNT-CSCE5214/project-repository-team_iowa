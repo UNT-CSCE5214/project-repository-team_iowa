{
  "nbformat": 4,
  "nbformat_minor": 0,
  "metadata": {
    "colab": {
      "provenance": [],
      "collapsed_sections": []
    },
    "kernelspec": {
      "name": "python3",
      "display_name": "Python 3"
    },
    "language_info": {
      "name": "python"
    }
  },
  "cells": [
    {
      "cell_type": "code",
      "source": [
        "# Sima Siami-Namini\n",
        "# Text Classification using keras and tensorflow\n"
      ],
      "metadata": {
        "id": "NsaTd_DXQ03h"
      },
      "execution_count": null,
      "outputs": []
    },
    {
      "cell_type": "code",
      "source": [
        "# import some python libraries\n",
        "import pandas as pd \n",
        "import numpy as np \n",
        "import matplotlib.pyplot as plt \n",
        "import seaborn as sns \n",
        "import re\n",
        "import time\n",
        "import random\n",
        "\n",
        "from sklearn.model_selection import train_test_split\n",
        "from sklearn.metrics import confusion_matrix, accuracy_score\n",
        "\n",
        "!sudo pip3 install keras\n",
        "\n",
        "# this line is needed to enable keras create a variable outside of keras\n",
        "!pip install tf-nightly\n",
        "\n",
        "\n",
        "from tensorflow import keras\n",
        "from tensorflow.keras import layers\n",
        "from tensorflow.keras.preprocessing.text import Tokenizer\n",
        "from tensorflow.keras.preprocessing.sequence import pad_sequences\n",
        "\n",
        "from tensorflow.compat.v1.keras.layers import CuDNNGRU\n"
      ],
      "metadata": {
        "id": "VObzxcZTsTQO"
      },
      "execution_count": null,
      "outputs": []
    },
    {
      "cell_type": "code",
      "source": [
        "# loading the content of a train.csv file. You need to upload it using the left panel \n",
        "df = pd.read_csv('train.csv')\n",
        "df.head()"
      ],
      "metadata": {
        "colab": {
          "base_uri": "https://localhost:8080/",
          "height": 206
        },
        "id": "rJKFLozJ3u_I",
        "outputId": "75ad46db-ff33-46fe-8019-bb0f46a1c7f0"
      },
      "execution_count": null,
      "outputs": [
        {
          "output_type": "execute_result",
          "data": {
            "text/plain": [
              "   review_id                        title    year  \\\n",
              "0          1  Spooky's Jump Scare Mansion  2016.0   \n",
              "1          2  Spooky's Jump Scare Mansion  2016.0   \n",
              "2          3  Spooky's Jump Scare Mansion  2016.0   \n",
              "3          4  Spooky's Jump Scare Mansion  2015.0   \n",
              "4          5  Spooky's Jump Scare Mansion  2015.0   \n",
              "\n",
              "                                         user_review  user_suggestion  \n",
              "0  I'm scared and hearing creepy voices.  So I'll...                1  \n",
              "1  Best game, more better than Sam Pepper's YouTu...                1  \n",
              "2  A littly iffy on the controls, but once you kn...                1  \n",
              "3  Great game, fun and colorful and all that.A si...                1  \n",
              "4  Not many games have the cute tag right next to...                1  "
            ],
            "text/html": [
              "\n",
              "  <div id=\"df-5617f668-dd45-438c-8edc-661a7e8d535b\">\n",
              "    <div class=\"colab-df-container\">\n",
              "      <div>\n",
              "<style scoped>\n",
              "    .dataframe tbody tr th:only-of-type {\n",
              "        vertical-align: middle;\n",
              "    }\n",
              "\n",
              "    .dataframe tbody tr th {\n",
              "        vertical-align: top;\n",
              "    }\n",
              "\n",
              "    .dataframe thead th {\n",
              "        text-align: right;\n",
              "    }\n",
              "</style>\n",
              "<table border=\"1\" class=\"dataframe\">\n",
              "  <thead>\n",
              "    <tr style=\"text-align: right;\">\n",
              "      <th></th>\n",
              "      <th>review_id</th>\n",
              "      <th>title</th>\n",
              "      <th>year</th>\n",
              "      <th>user_review</th>\n",
              "      <th>user_suggestion</th>\n",
              "    </tr>\n",
              "  </thead>\n",
              "  <tbody>\n",
              "    <tr>\n",
              "      <th>0</th>\n",
              "      <td>1</td>\n",
              "      <td>Spooky's Jump Scare Mansion</td>\n",
              "      <td>2016.0</td>\n",
              "      <td>I'm scared and hearing creepy voices.  So I'll...</td>\n",
              "      <td>1</td>\n",
              "    </tr>\n",
              "    <tr>\n",
              "      <th>1</th>\n",
              "      <td>2</td>\n",
              "      <td>Spooky's Jump Scare Mansion</td>\n",
              "      <td>2016.0</td>\n",
              "      <td>Best game, more better than Sam Pepper's YouTu...</td>\n",
              "      <td>1</td>\n",
              "    </tr>\n",
              "    <tr>\n",
              "      <th>2</th>\n",
              "      <td>3</td>\n",
              "      <td>Spooky's Jump Scare Mansion</td>\n",
              "      <td>2016.0</td>\n",
              "      <td>A littly iffy on the controls, but once you kn...</td>\n",
              "      <td>1</td>\n",
              "    </tr>\n",
              "    <tr>\n",
              "      <th>3</th>\n",
              "      <td>4</td>\n",
              "      <td>Spooky's Jump Scare Mansion</td>\n",
              "      <td>2015.0</td>\n",
              "      <td>Great game, fun and colorful and all that.A si...</td>\n",
              "      <td>1</td>\n",
              "    </tr>\n",
              "    <tr>\n",
              "      <th>4</th>\n",
              "      <td>5</td>\n",
              "      <td>Spooky's Jump Scare Mansion</td>\n",
              "      <td>2015.0</td>\n",
              "      <td>Not many games have the cute tag right next to...</td>\n",
              "      <td>1</td>\n",
              "    </tr>\n",
              "  </tbody>\n",
              "</table>\n",
              "</div>\n",
              "      <button class=\"colab-df-convert\" onclick=\"convertToInteractive('df-5617f668-dd45-438c-8edc-661a7e8d535b')\"\n",
              "              title=\"Convert this dataframe to an interactive table.\"\n",
              "              style=\"display:none;\">\n",
              "        \n",
              "  <svg xmlns=\"http://www.w3.org/2000/svg\" height=\"24px\"viewBox=\"0 0 24 24\"\n",
              "       width=\"24px\">\n",
              "    <path d=\"M0 0h24v24H0V0z\" fill=\"none\"/>\n",
              "    <path d=\"M18.56 5.44l.94 2.06.94-2.06 2.06-.94-2.06-.94-.94-2.06-.94 2.06-2.06.94zm-11 1L8.5 8.5l.94-2.06 2.06-.94-2.06-.94L8.5 2.5l-.94 2.06-2.06.94zm10 10l.94 2.06.94-2.06 2.06-.94-2.06-.94-.94-2.06-.94 2.06-2.06.94z\"/><path d=\"M17.41 7.96l-1.37-1.37c-.4-.4-.92-.59-1.43-.59-.52 0-1.04.2-1.43.59L10.3 9.45l-7.72 7.72c-.78.78-.78 2.05 0 2.83L4 21.41c.39.39.9.59 1.41.59.51 0 1.02-.2 1.41-.59l7.78-7.78 2.81-2.81c.8-.78.8-2.07 0-2.86zM5.41 20L4 18.59l7.72-7.72 1.47 1.35L5.41 20z\"/>\n",
              "  </svg>\n",
              "      </button>\n",
              "      \n",
              "  <style>\n",
              "    .colab-df-container {\n",
              "      display:flex;\n",
              "      flex-wrap:wrap;\n",
              "      gap: 12px;\n",
              "    }\n",
              "\n",
              "    .colab-df-convert {\n",
              "      background-color: #E8F0FE;\n",
              "      border: none;\n",
              "      border-radius: 50%;\n",
              "      cursor: pointer;\n",
              "      display: none;\n",
              "      fill: #1967D2;\n",
              "      height: 32px;\n",
              "      padding: 0 0 0 0;\n",
              "      width: 32px;\n",
              "    }\n",
              "\n",
              "    .colab-df-convert:hover {\n",
              "      background-color: #E2EBFA;\n",
              "      box-shadow: 0px 1px 2px rgba(60, 64, 67, 0.3), 0px 1px 3px 1px rgba(60, 64, 67, 0.15);\n",
              "      fill: #174EA6;\n",
              "    }\n",
              "\n",
              "    [theme=dark] .colab-df-convert {\n",
              "      background-color: #3B4455;\n",
              "      fill: #D2E3FC;\n",
              "    }\n",
              "\n",
              "    [theme=dark] .colab-df-convert:hover {\n",
              "      background-color: #434B5C;\n",
              "      box-shadow: 0px 1px 3px 1px rgba(0, 0, 0, 0.15);\n",
              "      filter: drop-shadow(0px 1px 2px rgba(0, 0, 0, 0.3));\n",
              "      fill: #FFFFFF;\n",
              "    }\n",
              "  </style>\n",
              "\n",
              "      <script>\n",
              "        const buttonEl =\n",
              "          document.querySelector('#df-5617f668-dd45-438c-8edc-661a7e8d535b button.colab-df-convert');\n",
              "        buttonEl.style.display =\n",
              "          google.colab.kernel.accessAllowed ? 'block' : 'none';\n",
              "\n",
              "        async function convertToInteractive(key) {\n",
              "          const element = document.querySelector('#df-5617f668-dd45-438c-8edc-661a7e8d535b');\n",
              "          const dataTable =\n",
              "            await google.colab.kernel.invokeFunction('convertToInteractive',\n",
              "                                                     [key], {});\n",
              "          if (!dataTable) return;\n",
              "\n",
              "          const docLinkHtml = 'Like what you see? Visit the ' +\n",
              "            '<a target=\"_blank\" href=https://colab.research.google.com/notebooks/data_table.ipynb>data table notebook</a>'\n",
              "            + ' to learn more about interactive tables.';\n",
              "          element.innerHTML = '';\n",
              "          dataTable['output_type'] = 'display_data';\n",
              "          await google.colab.output.renderOutput(dataTable, element);\n",
              "          const docLink = document.createElement('div');\n",
              "          docLink.innerHTML = docLinkHtml;\n",
              "          element.appendChild(docLink);\n",
              "        }\n",
              "      </script>\n",
              "    </div>\n",
              "  </div>\n",
              "  "
            ]
          },
          "metadata": {},
          "execution_count": 3
        }
      ]
    },
    {
      "cell_type": "code",
      "source": [
        "# Data inspection: we will be using the \"user_review\" as text and \"user_suggestion\" as label \n",
        "# we then split these data into train, validation, and test to capture the performance metrics precision, recall, \n",
        "# and f1 score, through confusion matrix.\n",
        "\n",
        "df.info()"
      ],
      "metadata": {
        "colab": {
          "base_uri": "https://localhost:8080/"
        },
        "id": "8IgRjk0x4eho",
        "outputId": "c6c0cacc-9d7c-4a34-bfa4-17545273eeb5"
      },
      "execution_count": null,
      "outputs": [
        {
          "output_type": "stream",
          "name": "stdout",
          "text": [
            "<class 'pandas.core.frame.DataFrame'>\n",
            "RangeIndex: 17494 entries, 0 to 17493\n",
            "Data columns (total 5 columns):\n",
            " #   Column           Non-Null Count  Dtype  \n",
            "---  ------           --------------  -----  \n",
            " 0   review_id        17494 non-null  int64  \n",
            " 1   title            17494 non-null  object \n",
            " 2   year             17316 non-null  float64\n",
            " 3   user_review      17494 non-null  object \n",
            " 4   user_suggestion  17494 non-null  int64  \n",
            "dtypes: float64(1), int64(2), object(2)\n",
            "memory usage: 683.5+ KB\n"
          ]
        }
      ]
    },
    {
      "cell_type": "code",
      "source": [
        "# checking how balance is the dataset and the labels (make sure not having any class imbalance problem)\n",
        "# the count plot shows the labels are somehow closely balanced \n",
        "sns.countplot(df[\"user_suggestion\"])\n",
        "plt.show()"
      ],
      "metadata": {
        "colab": {
          "base_uri": "https://localhost:8080/",
          "height": 335
        },
        "id": "P0taiMdC4vZA",
        "outputId": "e3e54e6e-18d9-48f8-c9ea-ffe380c4518a"
      },
      "execution_count": null,
      "outputs": [
        {
          "output_type": "stream",
          "name": "stderr",
          "text": [
            "/usr/local/lib/python3.7/dist-packages/seaborn/_decorators.py:43: FutureWarning: Pass the following variable as a keyword arg: x. From version 0.12, the only valid positional argument will be `data`, and passing other arguments without an explicit keyword will result in an error or misinterpretation.\n",
            "  FutureWarning\n"
          ]
        },
        {
          "output_type": "display_data",
          "data": {
            "text/plain": [
              "<Figure size 432x288 with 1 Axes>"
            ],
            "image/png": "[encoded data removed]"
          },
          "metadata": {
            "needs_background": "light"
          }
        }
      ]
    },
    {
      "cell_type": "code",
      "source": [
        "# Step 1: Cleaning and Lower casing the textual Data\n",
        "# Dropping unrelevant features and keeping only the two columns one in x and labels in y\n",
        "userReview = df[\"user_review\"]\n",
        "userSuggest = df[\"user_suggestion\"]\n",
        "\n",
        "print(userReview.head())\n",
        "print(userSuggest.head())"
      ],
      "metadata": {
        "id": "3cj--TLm5Dv4",
        "colab": {
          "base_uri": "https://localhost:8080/"
        },
        "outputId": "8bd0155d-b218-4989-e7d2-97ad638c098d"
      },
      "execution_count": null,
      "outputs": [
        {
          "output_type": "stream",
          "name": "stdout",
          "text": [
            "0    I'm scared and hearing creepy voices.  So I'll...\n",
            "1    Best game, more better than Sam Pepper's YouTu...\n",
            "2    A littly iffy on the controls, but once you kn...\n",
            "3    Great game, fun and colorful and all that.A si...\n",
            "4    Not many games have the cute tag right next to...\n",
            "Name: user_review, dtype: object\n",
            "0    1\n",
            "1    1\n",
            "2    1\n",
            "3    1\n",
            "4    1\n",
            "Name: user_suggestion, dtype: int64\n"
          ]
        }
      ]
    },
    {
      "cell_type": "code",
      "source": [
        "# A function to clean the text, lower all alphabet, keeping only alphanumerical characters \n",
        "# and removing all other characters including punctuations, etc.\n",
        "def cleanTexts(texts):\n",
        "    cleaned = []\n",
        "    pattern = \"[^a-zA-Z0-9]\"\n",
        "    for text in texts:\n",
        "        clrd = re.sub(pattern,\" \",text).lower().strip()\n",
        "        cleaned.append(clrd)\n",
        "    return cleaned\n",
        "\n"
      ],
      "metadata": {
        "id": "YLADnPGI5cAI"
      },
      "execution_count": null,
      "outputs": []
    },
    {
      "cell_type": "code",
      "source": [
        "# a test case to test the function developed \n",
        "cleanTexts([\"I am having dinner at 8:30 with my close friends tonight!! Are you coming with me?\"])\n"
      ],
      "metadata": {
        "colab": {
          "base_uri": "https://localhost:8080/"
        },
        "id": "Wqr_JWyZ56Vg",
        "outputId": "47d65aa3-8fed-4b91-d804-80d186fd6c5c"
      },
      "execution_count": null,
      "outputs": [
        {
          "output_type": "execute_result",
          "data": {
            "text/plain": [
              "['i am having dinner at 8 30 with my close friends tonight   are you coming with me']"
            ]
          },
          "metadata": {},
          "execution_count": 8
        }
      ]
    },
    {
      "cell_type": "code",
      "source": [
        "# lets clean out input data: x (user_review)\n",
        "userReview_cleaned = cleanTexts(userReview)\n",
        "\n",
        "print(userReview_cleaned[0])"
      ],
      "metadata": {
        "colab": {
          "base_uri": "https://localhost:8080/"
        },
        "id": "ZsLaRi8eGYyo",
        "outputId": "c7881ec3-78ae-4d52-c6d6-d65cb4d0f45e"
      },
      "execution_count": null,
      "outputs": [
        {
          "output_type": "stream",
          "name": "stdout",
          "text": [
            "i m scared and hearing creepy voices   so i ll pause for a moment and write a review while i wait for my heart beat to return to atleast somewhat calmer times   this game is adorable and creepy like my happy tree friends but with the graphics sceme of my childhood  but more bubble and  clean     hello 1990 s what charactes there are  that isnot trying to kill me  were likable and a bit odd   i did do a few noob things though  such as oh look a class room full of ghosts from dead children  lets shine my flashlight on them and stand there staring at them  or  hmm creepy music  i ll turn around and see if i can see what s chasing me never before in a game have i been this afraid of finding a locked door\n"
          ]
        }
      ]
    },
    {
      "cell_type": "code",
      "source": [
        "# Step 2: Tokenizing and padding the cleaned data and then vectorize each tokenzied term into a number\n",
        "# the number is just an index in a dictionary or the result of a word embeding activity. \n",
        "\n",
        "# Tokenizer \n",
        "tokenizer = Tokenizer(num_words=5000)\n",
        "tokenizer.fit_on_texts(userReview_cleaned)\n",
        "userReview_cleaned_tokens = tokenizer.texts_to_sequences(userReview_cleaned)\n",
        "\n",
        "print(userReview_cleaned_tokens[0])\n"
      ],
      "metadata": {
        "id": "q6FkgR74G2mg",
        "colab": {
          "base_uri": "https://localhost:8080/"
        },
        "outputId": "175143c5-5053-4caa-e89f-0342f9d2be5e"
      },
      "execution_count": null,
      "outputs": [
        {
          "output_type": "stream",
          "name": "stdout",
          "text": [
            "[7, 127, 2012, 3, 3558, 3152, 3257, 29, 7, 151, 14, 4, 819, 3, 1082, 4, 182, 120, 7, 313, 14, 36, 1472, 1021, 2, 1765, 2, 1534, 1030, 213, 11, 5, 10, 3559, 3, 3152, 27, 36, 922, 610, 184, 15, 16, 1, 171, 9, 36, 3685, 15, 38, 3, 2579, 2923, 19, 63, 37, 17, 13, 267, 2, 244, 56, 179, 3, 4, 206, 2090, 7, 228, 57, 4, 137, 1766, 125, 189, 239, 26, 339, 232, 4, 299, 624, 281, 9, 44, 781, 2266, 846, 3616, 36, 3856, 20, 88, 3, 1045, 37, 39, 88, 33, 3152, 1001, 7, 151, 378, 175, 3, 119, 24, 7, 22, 119, 63, 19, 3506, 56, 173, 148, 12, 4, 5, 18, 7, 108, 11, 2612, 9, 1441, 4, 1138, 1875]\n"
          ]
        }
      ]
    },
    {
      "cell_type": "code",
      "source": [
        "# computing the len of each sentence in the user reviews. \n",
        "len_array = [len(s) for s in userReview_cleaned_tokens]\n",
        "MAX_LEN = int(np.percentile(len_array,.75))\n",
        "print(MAX_LEN)"
      ],
      "metadata": {
        "id": "iz9bOZtQJ9Nw",
        "colab": {
          "base_uri": "https://localhost:8080/"
        },
        "outputId": "ae9d9458-a93f-4fd2-f7f6-8b7a823e24ef"
      },
      "execution_count": null,
      "outputs": [
        {
          "output_type": "stream",
          "name": "stdout",
          "text": [
            "13\n"
          ]
        }
      ]
    },
    {
      "cell_type": "code",
      "source": [
        "# now doing the padding, since the reviews are not of the same size \n",
        "userReview_cleaned_tokens_pad = pad_sequences(userReview_cleaned_tokens,maxlen=MAX_LEN)\n",
        "userReview_cleaned_tokens_pad.shape"
      ],
      "metadata": {
        "colab": {
          "base_uri": "https://localhost:8080/"
        },
        "id": "rfj0tWnJKrZ5",
        "outputId": "6eaf08f3-f196-4033-f816-862a1d4a2176"
      },
      "execution_count": null,
      "outputs": [
        {
          "output_type": "execute_result",
          "data": {
            "text/plain": [
              "(17494, 13)"
            ]
          },
          "metadata": {},
          "execution_count": 12
        }
      ]
    },
    {
      "cell_type": "code",
      "source": [
        "# Step 3: Train Test Splitting into 80 percent for training and 20 percent for testing \n",
        "\n",
        "x_train, x_test, y_train, y_test = train_test_split(userReview_cleaned_tokens_pad, \n",
        "                                                    np.asarray(userSuggest), test_size=0.2, \n",
        "                                                    random_state=42)\n",
        "\n"
      ],
      "metadata": {
        "id": "qXcxWyImNGDh"
      },
      "execution_count": null,
      "outputs": []
    },
    {
      "cell_type": "code",
      "source": [
        "print(x_train.shape)\n",
        "print(x_test.shape)\n",
        "print(y_train.shape)\n",
        "print(y_test.shape)"
      ],
      "metadata": {
        "colab": {
          "base_uri": "https://localhost:8080/"
        },
        "id": "43QRxFHaQaSB",
        "outputId": "accb2255-77a7-4668-a2fc-c1f79695ce50"
      },
      "execution_count": null,
      "outputs": [
        {
          "output_type": "stream",
          "name": "stdout",
          "text": [
            "(13995, 13)\n",
            "(3499, 13)\n",
            "(13995,)\n",
            "(3499,)\n"
          ]
        }
      ]
    },
    {
      "cell_type": "code",
      "source": [
        "# now building the classification model using keras and sequential models with three hidden layers that needs GPUS, \n",
        "# one input layer, and one output layer (the dense layer, a sigmoid layer)\n",
        "# we removed the GPU-based layers\n",
        "VOCAB_SIZE = len(tokenizer.word_index) + 1\n",
        "# 1 is added due to padding \n",
        "\n",
        "# set the vector size for each word to 100.\n",
        "VECTOR_SIZE = 100\n",
        "\n",
        "def buildModel(MAX_LEN,embedding_weights=None):\n",
        "    \n",
        "    model = keras.Sequential()\n",
        "    if embedding_weights is not None:\n",
        "        model.add(layers.Embedding(input_dim=VOCAB_SIZE,\n",
        "                                   output_dim=VECTOR_SIZE,\n",
        "                                   input_length=MAX_LEN,\n",
        "                                   weights=[embedding_weights],\n",
        "                                   trainable=True\n",
        "                              ))\n",
        "        \n",
        "    else:\n",
        "        model.add(layers.Embedding(input_dim=VOCAB_SIZE,\n",
        "                                   output_dim=VECTOR_SIZE,\n",
        "                                   input_length=MAX_LEN\n",
        "                                  ))\n",
        "    \n",
        "    #model.add(CuDNNGRU(512,return_sequences=True))\n",
        "    #model.add(CuDNNGRU(1024,return_sequences=True))\n",
        "    #model.add(CuDNNGRU(1024,return_sequences=False))\n",
        "\n",
        "    model.add(layers.Dense(512))\n",
        "    #model.add(Dropout(0.3))\n",
        "    model.add(layers.Dense(1024))\n",
        "    model.add(layers.Dense(1024))\n",
        "\n",
        "    #model.add(Dropout(0.2))\n",
        "    model.add(layers.Dense(1,activation=\"sigmoid\"))\n",
        "    \n",
        "    # use adam optimizer, binary cross entropy as the loss function, capture \n",
        "    model.compile(optimizer=\"Adam\",loss=\"binary_crossentropy\",metrics=[\"accuracy\"])\n",
        "    return model\n",
        "\n"
      ],
      "metadata": {
        "id": "cDo84TMZSAmZ"
      },
      "execution_count": null,
      "outputs": []
    },
    {
      "cell_type": "code",
      "source": [
        "model = buildModel(MAX_LEN)\n",
        "model.summary()"
      ],
      "metadata": {
        "colab": {
          "base_uri": "https://localhost:8080/"
        },
        "id": "_L6Ffa5PUnWh",
        "outputId": "fc4e8f5c-eed5-41a1-8876-7a0e8d62f1ae"
      },
      "execution_count": null,
      "outputs": [
        {
          "output_type": "stream",
          "name": "stdout",
          "text": [
            "Model: \"sequential\"\n",
            "_________________________________________________________________\n",
            " Layer (type)                Output Shape              Param #   \n",
            "=================================================================\n",
            " embedding (Embedding)       (None, 13, 100)           5192900   \n",
            "                                                                 \n",
            " dense (Dense)               (None, 13, 512)           51712     \n",
            "                                                                 \n",
            " dense_1 (Dense)             (None, 13, 1024)          525312    \n",
            "                                                                 \n",
            " dense_2 (Dense)             (None, 13, 1024)          1049600   \n",
            "                                                                 \n",
            " dense_3 (Dense)             (None, 13, 1)             1025      \n",
            "                                                                 \n",
            "=================================================================\n",
            "Total params: 6,820,549\n",
            "Trainable params: 6,820,549\n",
            "Non-trainable params: 0\n",
            "_________________________________________________________________\n"
          ]
        }
      ]
    },
    {
      "cell_type": "code",
      "source": [
        "# train the model with 20 percent validation\n",
        "y_train = np.asarray(y_train).astype('float32').reshape((-1,1))\n",
        "y_test = np.asarray(y_test).astype('float32').reshape((-1,1))\n",
        "model.fit(x_train, y_train, epochs=3, validation_split=0.2)\n"
      ],
      "metadata": {
        "colab": {
          "base_uri": "https://localhost:8080/"
        },
        "id": "UK-wQAZmRnL1",
        "outputId": "22cd0b2e-d2e4-4eff-abaa-1fb54e37a10e"
      },
      "execution_count": null,
      "outputs": [
        {
          "output_type": "stream",
          "name": "stdout",
          "text": [
            "Epoch 1/3\n",
            "350/350 [==============================] - 62s 172ms/step - loss: 0.6735 - accuracy: 0.5838 - val_loss: 0.6661 - val_accuracy: 0.5958\n",
            "Epoch 2/3\n",
            "350/350 [==============================] - 57s 162ms/step - loss: 0.6587 - accuracy: 0.6042 - val_loss: 0.6687 - val_accuracy: 0.5946\n",
            "Epoch 3/3\n",
            "350/350 [==============================] - 57s 162ms/step - loss: 0.6535 - accuracy: 0.6103 - val_loss: 0.6663 - val_accuracy: 0.5971\n"
          ]
        },
        {
          "output_type": "execute_result",
          "data": {
            "text/plain": [
              "<keras.callbacks.History at 0x7f7c3f36e1d0>"
            ]
          },
          "metadata": {},
          "execution_count": 17
        }
      ]
    },
    {
      "cell_type": "code",
      "source": [
        "# get the confusion matrix and predictions\n",
        "y_pred = model.predict(x_test)\n",
        "\n",
        "print(y_pred)\n",
        "\n",
        "# keep a threshold of <0.5 as zero and > 0.5 as 1 (binary classification instead of probability scale)\n",
        "y_pred[y_pred >= 0.5] = 1\n",
        "y_pred[y_pred < 0.5] = 0\n",
        "\n",
        "\n",
        "# reshape the prediction\n",
        "#y_test = np.reshape(y_test, (13, 1, ))\n",
        "\n",
        "y_test = y_test.reshape(-1, 1)\n",
        "y_pred = y_pred.reshape(-1, 1)\n",
        "\n",
        "# retriving the exact number of predictions from the pred (since the output is returning a shape off 13, 1)\n",
        "y_pred = y_pred[:len(y_test)]\n",
        "\n",
        "print('here', len(y_pred))\n",
        "print('then', len(y_test))\n",
        "\n",
        "print(type(y_pred))\n",
        "print(type(y_test))\n",
        "\n",
        "print(y_pred.size)\n",
        "print(y_test.size)\n",
        "\n",
        "print(y_pred.shape)\n",
        "print(y_test.shape)\n",
        "\n",
        "print(y_pred.ndim)\n",
        "print(y_test.ndim)\n",
        "\n",
        "print(y_pred.dtype)\n",
        "print(y_test.dtype)\n",
        "\n",
        "\n",
        "accuracy_sc = round(accuracy_score(y_pred=y_pred,y_true=y_test)*100,2)\n",
        "conf_matrix = confusion_matrix(y_pred=y_pred,y_true=y_test)\n",
        "\n",
        "\n",
        "print(\"Accuracy score is {}% \".format(accuracy_sc))\n",
        "\n",
        "plt.subplots()\n",
        "sns.heatmap(conf_matrix,annot=True,linewidths=1.5,fmt=\".1f\")\n",
        "plt.xlabel(\"Prediction\")\n",
        "plt.ylabel(\"Actual\")\n",
        "plt.show()\n"
      ],
      "metadata": {
        "colab": {
          "base_uri": "https://localhost:8080/",
          "height": 1000
        },
        "id": "luHfUIJcZ8wB",
        "outputId": "c1007114-78d5-4dd8-861b-77e39ccff29a"
      },
      "execution_count": null,
      "outputs": [
        {
          "output_type": "stream",
          "name": "stdout",
          "text": [
            "110/110 [==============================] - 2s 21ms/step\n",
            "[[[0.58165294]\n",
            "  [0.4831055 ]\n",
            "  [0.41188404]\n",
            "  ...\n",
            "  [0.54758024]\n",
            "  [0.681828  ]\n",
            "  [0.5643215 ]]\n",
            "\n",
            " [[0.6167085 ]\n",
            "  [0.40691072]\n",
            "  [0.6167085 ]\n",
            "  ...\n",
            "  [0.6167085 ]\n",
            "  [0.40691072]\n",
            "  [0.6167085 ]]\n",
            "\n",
            " [[0.6077698 ]\n",
            "  [0.55934554]\n",
            "  [0.7563257 ]\n",
            "  ...\n",
            "  [0.59266806]\n",
            "  [0.5335587 ]\n",
            "  [0.5171961 ]]\n",
            "\n",
            " ...\n",
            "\n",
            " [[0.5379363 ]\n",
            "  [0.5379363 ]\n",
            "  [0.55030847]\n",
            "  ...\n",
            "  [0.407112  ]\n",
            "  [0.58165294]\n",
            "  [0.547819  ]]\n",
            "\n",
            " [[0.677639  ]\n",
            "  [0.5443157 ]\n",
            "  [0.5958562 ]\n",
            "  ...\n",
            "  [0.3680823 ]\n",
            "  [0.52104044]\n",
            "  [0.4002529 ]]\n",
            "\n",
            " [[0.5062114 ]\n",
            "  [0.58165294]\n",
            "  [0.55451614]\n",
            "  ...\n",
            "  [0.6077698 ]\n",
            "  [0.55934554]\n",
            "  [0.9102567 ]]]\n",
            "here 3499\n",
            "then 3499\n",
            "<class 'numpy.ndarray'>\n",
            "<class 'numpy.ndarray'>\n",
            "3499\n",
            "3499\n",
            "(3499, 1)\n",
            "(3499, 1)\n",
            "2\n",
            "2\n",
            "float32\n",
            "float32\n",
            "Accuracy score is 54.19% \n"
          ]
        },
        {
          "output_type": "display_data",
          "data": {
            "text/plain": [
              "<Figure size 432x288 with 2 Axes>"
            ],
            "image/png": "[encoded data removed]"
          },
          "metadata": {
            "needs_background": "light"
          }
        }
      ]
    }
  ]
}