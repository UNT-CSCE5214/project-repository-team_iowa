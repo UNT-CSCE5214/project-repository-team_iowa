{
  "nbformat": 4,
  "nbformat_minor": 0,
  "metadata": {
    "colab": {
      "provenance": []
    },
    "kernelspec": {
      "name": "python3",
      "display_name": "Python 3"
    },
    "language_info": {
      "name": "python"
    }
  },
  "cells": [
    {
      "cell_type": "code",
      "execution_count": 24,
      "metadata": {
        "id": "gKiwIOqqMYsK"
      },
      "outputs": [],
      "source": [
        "import pandas as pd"
      ]
    },
    {
      "cell_type": "markdown",
      "source": [
        "**Train-test split**\n",
        "In the prior [EDA](https://colab.research.google.com/drive/1DxXl1NKkkwsiMZLbRs1GRK5VCq-oBopg), we determined that the following games collectively make up roughly 10% of the reviews dataset, so we will be holding these titles out as a test set:\n",
        "\n",
        "* Robocraft\n",
        "* Eternal Card Game\n",
        "* Crusaders of the Lost Idols\n",
        "\n",
        "The code below loads the initial train.csv file from the Kaggle competition and splits it into the Realm Royale reviews (test.csv) and all others (train.csv). \n",
        "\n",
        "This set of 3 held-out games will be used for evaluation across all models:"
      ],
      "metadata": {
        "id": "Bj7lJzvtNtDJ"
      }
    },
    {
      "cell_type": "code",
      "source": [
        "train_original = pd.read_csv(\"train.csv\")\n",
        "print(\"Original test set size: \", len(train_original))\n",
        "\n",
        "test_titles = [\"Robocraft\", \"Eternal Card Game\", \"Crusaders of the Lost Idols\"]\n",
        "\n",
        "test = train_original[train_original[\"title\"].isin(test_titles)]\n",
        "train = train_original[~train_original[\"title\"].isin(test_titles)]\n",
        "print(f\"Test population: {len(test)} ({len(test) / len(train_original)}\")\n",
        "print(f\"New train size: {len(train)} ({len(train) / (len(train) + len(test))}\")"
      ],
      "metadata": {
        "colab": {
          "base_uri": "https://localhost:8080/"
        },
        "id": "f48Tk97kOEMd",
        "outputId": "86d3d0a3-063e-4cc2-8fc5-21a9f00dfb76"
      },
      "execution_count": 25,
      "outputs": [
        {
          "output_type": "stream",
          "name": "stdout",
          "text": [
            "Original test set size:  17494\n",
            "Test population: 1765 (0.10089173430890591\n",
            "New train size: 15729 (0.8991082656910941\n"
          ]
        }
      ]
    },
    {
      "cell_type": "code",
      "source": [
        "# Write new CSVs\n",
        "test.to_csv(\"test_held_out.csv\", index=False, header=True)\n",
        "train.to_csv(\"train_canonical.csv\", index=False, header=True)"
      ],
      "metadata": {
        "id": "yJyufykEOSed"
      },
      "execution_count": 26,
      "outputs": []
    },
    {
      "cell_type": "code",
      "source": [],
      "metadata": {
        "id": "bY52mNIFTIQY"
      },
      "execution_count": null,
      "outputs": []
    }
  ]
}